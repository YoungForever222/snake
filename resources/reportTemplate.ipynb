{
 "cells": [
  {
   "cell_type": "markdown",
   "metadata": {},
   "source": [
    "# Template report Flying Snake"
   ]
  },
  {
   "cell_type": "code",
   "execution_count": null,
   "metadata": {
    "code_folding": [
     0
    ],
    "collapsed": false
   },
   "outputs": [],
   "source": [
    "# imports\n",
    "import os\n",
    "\n",
    "from IPython.core.display import HTML\n",
    "from IPython.display import Image, display\n",
    "from IPython.html.widgets import interact\n",
    "\n",
    "%matplotlib inline"
   ]
  },
  {
   "cell_type": "code",
   "execution_count": null,
   "metadata": {
    "code_folding": [
     0
    ],
    "collapsed": false
   },
   "outputs": [],
   "source": [
    "# settings\n",
    "project_directory = os.environ['FLYING_SNAKE_OPENFOAM']\n",
    "scripts_directory = '%s/scripts' % project_directory\n",
    "resources_directory = '%s/resources' % project_directory\n",
    "case_directory = os.getcwd()\n",
    "print os.path.basename(case_directory)"
   ]
  },
  {
   "cell_type": "code",
   "execution_count": null,
   "metadata": {
    "code_folding": [
     0
    ],
    "collapsed": false
   },
   "outputs": [],
   "source": [
    "def css_styling():\n",
    "    \"\"\"Loads the style of the notebook.\"\"\"\n",
    "    css_path = '%s/mesnardo_style.css' % resources_directory\n",
    "    styles = open(css_path, 'r').read()\n",
    "    return HTML(styles)\n",
    "css_styling()"
   ]
  },
  {
   "cell_type": "markdown",
   "metadata": {},
   "source": [
    "---"
   ]
  },
  {
   "cell_type": "markdown",
   "metadata": {},
   "source": [
    "## Objective"
   ]
  },
  {
   "cell_type": "markdown",
   "metadata": {},
   "source": [
    "Set objectives of the simulation.\n",
    "Mention comparison with other simulations."
   ]
  },
  {
   "cell_type": "markdown",
   "metadata": {},
   "source": [
    "## Settings"
   ]
  },
  {
   "cell_type": "markdown",
   "metadata": {},
   "source": [
    "Mention important settings of the simulation such as the grid refinement in different boxes, the time-increment, the size of the mesh."
   ]
  },
  {
   "cell_type": "markdown",
   "metadata": {},
   "source": [
    "---"
   ]
  },
  {
   "cell_type": "markdown",
   "metadata": {},
   "source": [
    "## Force coefficients"
   ]
  },
  {
   "cell_type": "code",
   "execution_count": null,
   "metadata": {
    "code_folding": [
     0
    ],
    "collapsed": false
   },
   "outputs": [],
   "source": [
    "# display instantaneous force coefficients\n",
    "script_path = '%s/plot_force_coefficients.py' % scripts_directory\n",
    "cuibm_path = ('%s/resources/flying_snake_cuibm_results/'\n",
    "              'flying_snake_1000_25/'\n",
    "              'force_coefficients_1000_25_cuibm'\n",
    "              % project_directory)\n",
    "arguments = ('--show '\n",
    "             '--cuibm %s ' % cuibm_path+\n",
    "             '--legend icoFoam_244K '\n",
    "             '--times 60.0 80.0 '\n",
    "             '--limits 0.0 80.0 0.5 2.5 '\n",
    "             '--reference %s ' % cuibm_path)\n",
    "%run $script_path $arguments"
   ]
  },
  {
   "cell_type": "code",
   "execution_count": null,
   "metadata": {
    "code_folding": [
     0
    ],
    "collapsed": false
   },
   "outputs": [],
   "source": [
    "# display  instantaneous force coefficients between 60 and 80s\n",
    "script_path = '%s/plot_force_coefficients.py' % scripts_directory\n",
    "cuibm_path = ('%s/resources/flying_snake_cuibm_results/'\n",
    "              'flying_snake_1000_25/'\n",
    "              'force_coefficients_1000_25_cuibm'\n",
    "              % project_directory)\n",
    "arguments = ('--show '\n",
    "             '--cuibm %s ' % cuibm_path+\n",
    "             '--compare ../flying_snake_1000_25_76K '\n",
    "             '--legend icoFoam_244K icoFoam_76K '\n",
    "             '--times 60.0 80.0 '\n",
    "             '--limits 60.0 80.0 0.5 2.5 '\n",
    "             '--reference %s ' % cuibm_path+\n",
    "             '--name force_coefficients_compare')\n",
    "%run $script_path $arguments"
   ]
  },
  {
   "cell_type": "code",
   "execution_count": null,
   "metadata": {
    "code_folding": [
     0
    ],
    "collapsed": false
   },
   "outputs": [],
   "source": [
    "# print force coefficients over the last period\n",
    "script_path = '%s/plot_force_coefficients.py' % scripts_directory\n",
    "cuibm_path = ('%s/resources/flying_snake_cuibm_results/'\n",
    "              'flying_snake_1000_25/'\n",
    "              'force_coefficients_1000_25_cuibm'\n",
    "              % project_directory)\n",
    "arguments = ('--cuibm %s ' % cuibm_path+\n",
    "             '--compare ../flying_snake_1000_25_76K '\n",
    "             '--legend icoFoam_244K icoFoam_76K '\n",
    "             '--order 200 '\n",
    "             '--limits 60.0 80.0 0.5 2.5 '\n",
    "             '--reference %s ' % cuibm_path+\n",
    "             '--name force_coefficients_compare')\n",
    "%run $script_path $arguments"
   ]
  },
  {
   "cell_type": "markdown",
   "metadata": {},
   "source": [
    "---"
   ]
  },
  {
   "cell_type": "markdown",
   "metadata": {},
   "source": [
    "## Convergence of force coefficients"
   ]
  },
  {
   "cell_type": "code",
   "execution_count": null,
   "metadata": {
    "code_folding": [
     0
    ],
    "collapsed": false
   },
   "outputs": [],
   "source": [
    "# display convergence of force coefficients\n",
    "script_path = '%s/analyze_force_coefficients.py' % scripts_directory\n",
    "arguments = ('--show '\n",
    "             '--times 60.0 80.0 '\n",
    "             '--limits-cd 0.7 1.1 '\n",
    "             '--limits-cl 1.0 2.2 '\n",
    "             '--order 200')\n",
    "%run $script_path $arguments"
   ]
  },
  {
   "cell_type": "markdown",
   "metadata": {},
   "source": [
    "---"
   ]
  },
  {
   "cell_type": "markdown",
   "metadata": {},
   "source": [
    "## Maximum Courant number"
   ]
  },
  {
   "cell_type": "code",
   "execution_count": null,
   "metadata": {
    "code_folding": [
     0
    ],
    "collapsed": false
   },
   "outputs": [],
   "source": [
    "# call OpenFoam utility foamLog to extract data (residuals, Courant number...) \n",
    "os.system('foamLog simu.log');\n"
   ]
  },
  {
   "cell_type": "code",
   "execution_count": null,
   "metadata": {
    "code_folding": [
     0
    ],
    "collapsed": false
   },
   "outputs": [],
   "source": [
    "# display the maximum Courant number\n",
    "script_path = '%s/plot_courant_number.py' % scripts_directory\n",
    "arguments = ('--show '\n",
    "             '--times 0.0 80.0 '\n",
    "             '--limits 0.6 0.8')\n",
    "%run $script_path $arguments"
   ]
  },
  {
   "cell_type": "markdown",
   "metadata": {},
   "source": [
    "---"
   ]
  },
  {
   "cell_type": "code",
   "execution_count": null,
   "metadata": {
    "code_folding": [
     0
    ],
    "collapsed": false
   },
   "outputs": [],
   "source": [
    "def display_images(shared_name, case_directory):\n",
    "    \"\"\"Displays images interactively.\n",
    "    \n",
    "    Arguments\n",
    "    ---------\n",
    "    shared_name -- shared name among images.\n",
    "    case_directory -- directory of the OpenFoam simulation.\n",
    "    \"\"\"\n",
    "    images_directory = '%s/images' % case_directory\n",
    "    images = sorted([image for image in os.listdir(images_directory)\n",
    "                     if os.path.basename(shared_name) in image and '.png' in image])\n",
    "    def view_image(index):\n",
    "        image = Image(filename=('%s/%s' % (images_directory, images[index])))\n",
    "        display(image)\n",
    "    interact(view_image, index=(0, len(images)-1))        "
   ]
  },
  {
   "cell_type": "markdown",
   "metadata": {},
   "source": [
    "## Vorticity in the wake"
   ]
  },
  {
   "cell_type": "code",
   "execution_count": null,
   "metadata": {
    "collapsed": false
   },
   "outputs": [],
   "source": [
    "# reconstruct the solution and compute the vorticity\n",
    "os.system('reconstructPar -case %s -newTimes' % case_directory);\n",
    "os.system('vorticity -case %s' % case_directory);"
   ]
  },
  {
   "cell_type": "code",
   "execution_count": null,
   "metadata": {
    "code_folding": [
     0
    ],
    "collapsed": false
   },
   "outputs": [],
   "source": [
    "# generates images of the vorticity in the wake\n",
    "script_path = '%s/plot_variable.py' % scripts_directory\n",
    "arguments = ('--variable vorticity '\n",
    "             '--bottom-left -2.0 -5.0 '\n",
    "             '--top-right 30.0 5.0 '\n",
    "             '--width 800')\n",
    "os.system(' '.join([script_path, arguments]));"
   ]
  },
  {
   "cell_type": "code",
   "execution_count": null,
   "metadata": {
    "collapsed": false
   },
   "outputs": [],
   "source": [
    "display_images('vorticity_-2_-5_30_5', case_directory)"
   ]
  },
  {
   "cell_type": "code",
   "execution_count": null,
   "metadata": {
    "collapsed": false
   },
   "outputs": [],
   "source": [
    "display_images('vorticity_-2_-5_30_5', '../flying_snake_1000_25_76K')"
   ]
  },
  {
   "cell_type": "markdown",
   "metadata": {},
   "source": [
    "---"
   ]
  },
  {
   "cell_type": "markdown",
   "metadata": {},
   "source": [
    "## Vorticity near the snake"
   ]
  },
  {
   "cell_type": "code",
   "execution_count": null,
   "metadata": {
    "code_folding": [
     0
    ],
    "collapsed": false
   },
   "outputs": [],
   "source": [
    "# generate images of the vorticity near the snake\n",
    "script_path = '%s/plot_variable.py' % scripts_directory\n",
    "arguments = ('--variable vorticity '\n",
    "             '--view snake')\n",
    "os.system(' '.join([script_path, arguments]));"
   ]
  },
  {
   "cell_type": "code",
   "execution_count": null,
   "metadata": {
    "collapsed": false
   },
   "outputs": [],
   "source": [
    "display_images('vorticity_snake', case_directory)"
   ]
  },
  {
   "cell_type": "code",
   "execution_count": null,
   "metadata": {
    "collapsed": false
   },
   "outputs": [],
   "source": [
    "display_images('vorticity_snake', '../flying_snake_1000_25_76K')"
   ]
  },
  {
   "cell_type": "markdown",
   "metadata": {},
   "source": [
    "---"
   ]
  },
  {
   "cell_type": "markdown",
   "metadata": {},
   "source": [
    "## What's next?"
   ]
  },
  {
   "cell_type": "markdown",
   "metadata": {},
   "source": [
    "What could be done to improve the simulation?"
   ]
  }
 ],
 "metadata": {
  "kernelspec": {
   "display_name": "Python 2",
   "language": "python",
   "name": "python2"
  },
  "language_info": {
   "codemirror_mode": {
    "name": "ipython",
    "version": 2
   },
   "file_extension": ".py",
   "mimetype": "text/x-python",
   "name": "python",
   "nbconvert_exporter": "python",
   "pygments_lexer": "ipython2",
   "version": "2.7.10"
  }
 },
 "nbformat": 4,
 "nbformat_minor": 0
}
