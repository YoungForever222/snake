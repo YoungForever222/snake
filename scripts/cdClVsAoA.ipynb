{
 "cells": [
  {
   "cell_type": "code",
   "execution_count": null,
   "metadata": {
    "collapsed": false
   },
   "outputs": [],
   "source": [
    "import os\n",
    "import numpy\n",
    "from matplotlib import pyplot\n",
    "%matplotlib inline\n",
    "\n",
    "pyplot.style.use('{}/styles/mesnardo.mplstyle'.format(os.environ['SCRIPTS']))"
   ]
  },
  {
   "cell_type": "code",
   "execution_count": null,
   "metadata": {
    "collapsed": false
   },
   "outputs": [],
   "source": [
    "aoa = [25, 30, 35, 40]\n",
    "\n",
    "file_path = ('/home/mesnardo/simulations_PetIBM/flyingSnake/2d/'\n",
    "             'cuibmGrid/velocityCGPoissonBiCGStab/'\n",
    "             'timeAveragedLiftDragCoefficientsPetIBM.txt')\n",
    "with open(file_path, 'r') as infile:\n",
    "    series1 = numpy.loadtxt(infile, dtype=float, comments='#')\n",
    "series1_title = 'PetIBM'\n",
    "save_directory = os.path.dirname(file_path)\n",
    "save_name = 'petibmCompareCuIBMAnush'\n",
    "\n",
    "file_path = ('/home/mesnardo/git/mesnardo/scripts/resources/'\n",
    "             'flyingSnake2d_cuibm_anush/'\n",
    "             'timeAveragedLiftDragCoefficientsCuIBMAnush.txt')\n",
    "with open(file_path, 'r') as infile:\n",
    "    series2 = numpy.loadtxt(infile, dtype=float, comments='#')\n",
    "series2_title = 'Krishnan et al. (2014)'"
   ]
  },
  {
   "cell_type": "code",
   "execution_count": null,
   "metadata": {
    "collapsed": false
   },
   "outputs": [],
   "source": [
    "aoa = [25, 30, 35, 40]\n",
    "\n",
    "file_path = ('/home/mesnardo/simulations_OpenFOAM/flyingSnake2d/'\n",
    "             'mesh_test/surfaceFeatureExtract/'\n",
    "             'timeAveragedLiftDragCoefficientsOpenFOAM.txt')\n",
    "with open(file_path, 'r') as infile:\n",
    "    series1 = numpy.loadtxt(infile, dtype=float, comments='#')\n",
    "series1_title = 'OpenFOAM'\n",
    "save_directory = os.path.dirname(file_path)\n",
    "save_name = 'openfoamCompareCuIBMAnush'\n",
    "\n",
    "file_path = ('/home/mesnardo/git/mesnardo/scripts/resources/'\n",
    "             'flyingSnake2d_cuibm_anush/'\n",
    "             'timeAveragedLiftDragCoefficientsCuIBMAnush.txt')\n",
    "with open(file_path, 'r') as infile:\n",
    "    series2 = numpy.loadtxt(infile, dtype=float, comments='#')\n",
    "series2_title = 'Krishnan et al. (2014)'"
   ]
  },
  {
   "cell_type": "code",
   "execution_count": null,
   "metadata": {
    "collapsed": false
   },
   "outputs": [],
   "source": [
    "aoa = [25, 30, 35, 40]\n",
    "\n",
    "file_path = ('/home/mesnardo/simulations_IBAMR/flyingSnake2d/'\n",
    "             'discretizedBoundary/'\n",
    "             'timeAveragedLiftDragCoefficientsIBAMR.txt')\n",
    "with open(file_path, 'r') as infile:\n",
    "    series1 = numpy.loadtxt(infile, dtype=float, comments='#')\n",
    "series1_title = 'IBAMR'\n",
    "save_directory = os.path.dirname(file_path)\n",
    "save_name = 'ibamrCompareCuIBMAnush'\n",
    "\n",
    "file_path = ('/home/mesnardo/git/mesnardo/scripts/resources/'\n",
    "             'flyingSnake2d_cuibm_anush/'\n",
    "             'timeAveragedLiftDragCoefficientsCuIBMAnush.txt')\n",
    "with open(file_path, 'r') as infile:\n",
    "    series2 = numpy.loadtxt(infile, dtype=float, comments='#')\n",
    "series2_title = 'Krishnan et al. (2014)'"
   ]
  },
  {
   "cell_type": "code",
   "execution_count": null,
   "metadata": {
    "collapsed": false
   },
   "outputs": [],
   "source": [
    "aoa = [25, 30, 35, 40]\n",
    "\n",
    "file_path = ('/home/mesnardo/simulations_IBAMR/flyingSnake2d/'\n",
    "             'discretizedBody/'\n",
    "             'timeAveragedLiftDragCoefficientsIBAMR.txt')\n",
    "with open(file_path, 'r') as infile:\n",
    "    series1 = numpy.loadtxt(infile, dtype=float, comments='#', \n",
    "                            usecols=(0, 1, 2, 3))\n",
    "series1_title = 'IBAMR'\n",
    "save_directory = os.path.dirname(file_path)\n",
    "save_name = 'ibamrCompareCuIBMAnush'\n",
    "\n",
    "file_path = ('/home/mesnardo/git/mesnardo/scripts/resources/'\n",
    "             'flyingSnake2d_cuibm_anush/'\n",
    "             'timeAveragedLiftDragCoefficientsCuIBMAnush.txt')\n",
    "with open(file_path, 'r') as infile:\n",
    "    series2 = numpy.loadtxt(infile, dtype=float, comments='#')\n",
    "series2_title = 'Krishnan et al. (2014)'"
   ]
  },
  {
   "cell_type": "code",
   "execution_count": null,
   "metadata": {
    "collapsed": false
   },
   "outputs": [],
   "source": [
    "fig, ax = pyplot.subplots(figsize=(8, 6))\n",
    "pyplot.grid(True)\n",
    "pyplot.xlabel('angle of attack (degrees)', fontsize=16)\n",
    "pyplot.ylabel('drag coefficient', fontsize=16)\n",
    "color_cycle = ax._get_lines.color_cycle\n",
    "# color = next(color_cycle)\n",
    "color = '#1B9E77'\n",
    "data = series1[:len(aoa), 2]\n",
    "pyplot.plot(aoa, data,  \n",
    "            label='Re=1000 - {}'.format(series1_title),\n",
    "            color=color, linestyle='-', \n",
    "            marker='o', markersize=8, zorder=10)\n",
    "data = series2[:len(aoa), 2]\n",
    "pyplot.plot(aoa, data,  \n",
    "            label='Re=1000 - {}'.format(series2_title),\n",
    "            color='#666666', linestyle='--',\n",
    "            markeredgewidth=2, markeredgecolor='#666666', \n",
    "            markerfacecolor='none',\n",
    "            marker='o', markersize=8, zorder=10)\n",
    "# color = next(color_cycle)\n",
    "color = '#D95F02'\n",
    "data = series1[len(aoa):, 2]\n",
    "pyplot.plot(aoa, data,  \n",
    "            label='Re=2000 - {}'.format(series1_title),\n",
    "            color=color, linestyle='-', \n",
    "            marker='s', markersize=8, zorder=10)\n",
    "data = series2[len(aoa):, 2]\n",
    "pyplot.plot(aoa, data,  \n",
    "            label='Re=2000 - {}'.format(series2_title),\n",
    "            color='#666666', linestyle='--', \n",
    "            markeredgewidth=2, markeredgecolor='#666666', \n",
    "            markerfacecolor='none',\n",
    "            marker='s', markersize=8, zorder=10)\n",
    "pyplot.legend()\n",
    "pyplot.xlim(aoa[0]-5.0, aoa[-1]+5.0)\n",
    "pyplot.xticks(aoa)\n",
    "pyplot.savefig('{}/dragCoefficientsVsAoA_{}'.format(save_directory,\n",
    "                                                    save_name));"
   ]
  },
  {
   "cell_type": "code",
   "execution_count": null,
   "metadata": {
    "collapsed": false
   },
   "outputs": [],
   "source": [
    "fig, ax = pyplot.subplots(figsize=(8, 6))\n",
    "pyplot.grid(True)\n",
    "pyplot.xlabel('angle of attack (degrees)', fontsize=16)\n",
    "pyplot.ylabel('lift coefficient', fontsize=16)\n",
    "color_cycle = ax._get_lines.color_cycle\n",
    "# color = next(color_cycle)\n",
    "color = '#1B9E77'\n",
    "data = series1[:len(aoa), 3]\n",
    "pyplot.plot(aoa, data,  \n",
    "            label='Re=1000 - {}'.format(series1_title),\n",
    "            color=color, linestyle='-', \n",
    "            marker='o', markersize=8, zorder=10)\n",
    "data = series2[:len(aoa), 3]\n",
    "pyplot.plot(aoa, data,  \n",
    "            label='Re=1000 - {}'.format(series2_title),\n",
    "            color='#666666', linestyle='--',\n",
    "            markeredgewidth=2, markeredgecolor='#666666', \n",
    "            markerfacecolor='none',\n",
    "            marker='o', markersize=8, zorder=10)\n",
    "# color = next(color_cycle)\n",
    "color = '#D95F02'\n",
    "data = series1[len(aoa):, 3]\n",
    "pyplot.plot(aoa, data,  \n",
    "            label='Re=2000 - {}'.format(series1_title),\n",
    "            color=color, linestyle='-', \n",
    "            marker='s', markersize=8, zorder=10)\n",
    "data = series2[len(aoa):, 3]\n",
    "pyplot.plot(aoa, data,  \n",
    "            label='Re=2000 - {}'.format(series2_title),\n",
    "            color='#666666', linestyle='--', \n",
    "            markeredgewidth=2, markeredgecolor='#666666', \n",
    "            markerfacecolor='none',\n",
    "            marker='s', markersize=8, zorder=10)\n",
    "pyplot.legend()\n",
    "pyplot.xlim(aoa[0]-5.0, aoa[-1]+5.0)\n",
    "pyplot.xticks(aoa)\n",
    "pyplot.savefig('{}/liftCoefficientsVsAoA_{}'.format(save_directory,\n",
    "                                                    save_name));"
   ]
  },
  {
   "cell_type": "code",
   "execution_count": null,
   "metadata": {
    "collapsed": true
   },
   "outputs": [],
   "source": []
  }
 ],
 "metadata": {
  "hide_input": true,
  "kernelspec": {
   "display_name": "Python 2",
   "language": "python",
   "name": "python2"
  },
  "language_info": {
   "codemirror_mode": {
    "name": "ipython",
    "version": 2
   },
   "file_extension": ".py",
   "mimetype": "text/x-python",
   "name": "python",
   "nbconvert_exporter": "python",
   "pygments_lexer": "ipython2",
   "version": "2.7.10"
  }
 },
 "nbformat": 4,
 "nbformat_minor": 0
}
