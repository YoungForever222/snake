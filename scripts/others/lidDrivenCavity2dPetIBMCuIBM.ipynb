{
 "cells": [
  {
   "cell_type": "code",
   "execution_count": null,
   "metadata": {
    "collapsed": false
   },
   "outputs": [],
   "source": [
    "import os\n",
    "import sys\n",
    "import collections\n",
    "import ipywidgets\n",
    "\n",
    "import numpy\n",
    "from matplotlib import pyplot\n",
    "pyplot.style.use('{}/styles/'\n",
    "                 'mesnardo.mplstyle'.format(os.environ['SCRIPTS']))\n",
    "%matplotlib inline\n",
    "\n",
    "sys.path.append(os.environ['SCRIPTS'])\n",
    "from library.simulation import Simulation\n",
    "from library.field import Field\n",
    "import library.miscellaneous"
   ]
  },
  {
   "cell_type": "code",
   "execution_count": null,
   "metadata": {
    "collapsed": true
   },
   "outputs": [],
   "source": [
    "def get_vertical_gridline_values(field, x_target):\n",
    "    indices = numpy.where(numpy.abs(field.x-x_target) <= 1.0E-06)[0]\n",
    "    if indices.size == 0:\n",
    "        i = numpy.where(field.x > x_target)[0][0]\n",
    "        return ((abs(x[i]-x_target)*field.values[:, i-1]\n",
    "               +abs(x[i-1]-x_target)*field.values[:, i])\n",
    "               /abs(x[i]-x[i-1]))\n",
    "    else:\n",
    "        i = indices[0]\n",
    "        return field.values[:, i]"
   ]
  },
  {
   "cell_type": "code",
   "execution_count": null,
   "metadata": {
    "collapsed": true
   },
   "outputs": [],
   "source": [
    "def get_horizontal_gridline_values(field, y_target):\n",
    "    indices = numpy.where(numpy.abs(field.y-y_target) <= 1.0E-06)[0]\n",
    "    if indices.size == 0:\n",
    "        j = numpy.where(field.y > y_target)[0][0]\n",
    "        return ((abs(y[j]-y_target)*field.values[j-1, :]\n",
    "                +abs(y[j-1]-y_target)*field.values[j, :])\n",
    "                /abs(y[j]-y[j-1]))\n",
    "    else:\n",
    "        j = indices[0]\n",
    "        return field.values[j, :]"
   ]
  },
  {
   "cell_type": "code",
   "execution_count": null,
   "metadata": {
    "collapsed": true
   },
   "outputs": [],
   "source": [
    "def get_gridline_values(field, x_target=None, y_target=None):\n",
    "    if x_target:\n",
    "        return get_vertical_gridline_values(field, x_target)\n",
    "    elif y_target:\n",
    "        return get_horizontal_gridline_values(field, y_target)"
   ]
  },
  {
   "cell_type": "code",
   "execution_count": null,
   "metadata": {
    "collapsed": true
   },
   "outputs": [],
   "source": [
    "def plot_vertical_gridline_differences(simu1, simu2, \n",
    "                                      x_targets=[],\n",
    "                                      time_steps=[],\n",
    "                                      stride=1, log_yscale=False):\n",
    "    simu1.read_grid()\n",
    "    simu2.read_grid()\n",
    "    fig, ax = pyplot.subplots(figsize=(6, 4))\n",
    "    color_cycle = ax._get_lines.prop_cycler\n",
    "    ax.grid(True, zorder=0)\n",
    "    ax.set_xlabel('y-location')\n",
    "    ax.set_ylabel('x-velocity differences\\n along vertical gridline')\n",
    "    ax.ticklabel_format(style='sci', axis='y', scilimits=(0, 0))\n",
    "    for time_step in time_steps:\n",
    "        simu1.read_velocity(time_step)\n",
    "        simu2.read_velocity(time_step)\n",
    "        for x_target in x_targets:\n",
    "            u1 = get_vertical_gridline_values(simu1.x_velocity, x_target)\n",
    "            u2 = get_vertical_gridline_values(simu2.x_velocity, x_target)\n",
    "            ax.plot(simu1.x_velocity.y[::stride], numpy.abs(u2-u1)[::stride],\n",
    "                    label='nt={}, x={}'.format(time_step, x_target),\n",
    "                    color=next(color_cycle)['color'], \n",
    "                    linestyle='-', linewidth=0,\n",
    "                    marker='o', markersize=4,\n",
    "                    zorder=10);\n",
    "    ax.legend();\n",
    "    if log_yscale:\n",
    "        ax.set_yscale('log');"
   ]
  },
  {
   "cell_type": "code",
   "execution_count": null,
   "metadata": {
    "collapsed": true
   },
   "outputs": [],
   "source": [
    "def plot_horizontal_gridline_differences(simu1, simu2, \n",
    "                                         y_targets=[],\n",
    "                                         time_steps=[],\n",
    "                                         stride=1, log_yscale=False):\n",
    "    simu1.read_grid()\n",
    "    simu2.read_grid()\n",
    "    fig, ax = pyplot.subplots(figsize=(6, 4))\n",
    "    color_cycle = ax._get_lines.prop_cycler\n",
    "    ax.grid(True, zorder=0)\n",
    "    ax.set_xlabel('x-location')\n",
    "    ax.set_ylabel('y-velocity differences\\n along horizontal gridline')\n",
    "    ax.ticklabel_format(style='sci', axis='y', scilimits=(0, 0))\n",
    "    for time_step in time_steps:\n",
    "        simu1.read_velocity(time_step)\n",
    "        simu2.read_velocity(time_step)\n",
    "        for y_target in y_targets:\n",
    "            v1 = get_horizontal_gridline_values(simu1.y_velocity, y_target)\n",
    "            v2 = get_horizontal_gridline_values(simu2.y_velocity, y_target)\n",
    "            ax.plot(simu1.y_velocity.x[::stride], numpy.abs(v2-v1)[::stride],\n",
    "                    label='nt={}, y={}'.format(time_step, y_target),\n",
    "                    color=next(color_cycle)['color'], \n",
    "                    linestyle='-', linewidth=0,\n",
    "                    marker='o', markersize=4,\n",
    "                    zorder=10);\n",
    "    ax.legend();\n",
    "    if log_yscale:\n",
    "        ax.set_yscale('log');"
   ]
  },
  {
   "cell_type": "code",
   "execution_count": null,
   "metadata": {
    "collapsed": true
   },
   "outputs": [],
   "source": [
    "def plot_vertical_gridline_values(simulations, time_step, x_target, \n",
    "                                  xlimits=[None, None]):\n",
    "    fig, ax = pyplot.subplots(figsize=(6, 4))\n",
    "    color_cycle = ax._get_lines.prop_cycler\n",
    "    ax.grid(True, zorder=0)\n",
    "    ax.set_xlabel('y-location')\n",
    "    ax.set_ylabel('x-velocity\\n along vertical gridline')\n",
    "    for simulation in simulations:\n",
    "        simulation.read_grid()\n",
    "        simulation.read_velocity(time_step)\n",
    "        y = simulation.x_velocity.y\n",
    "        u = get_vertical_gridline_values(simulation.x_velocity, x_target)\n",
    "        if any(xlimits):\n",
    "            mask = numpy.where(numpy.logical_and(y >= xlimits[0], y <= xlimits[1]))\n",
    "            y = y[mask]\n",
    "            u = u[mask]\n",
    "        ax.plot(y, u,\n",
    "                label=simulation.description,\n",
    "                color=next(color_cycle)['color'],\n",
    "                linestyle='-', marker='o', markersize=4,\n",
    "                zorder=10)\n",
    "    ax.legend();"
   ]
  },
  {
   "cell_type": "code",
   "execution_count": null,
   "metadata": {
    "collapsed": true
   },
   "outputs": [],
   "source": [
    "def plot_horizontal_gridline_values(simulations, time_step, y_target, \n",
    "                                    xlimits=[None, None]):\n",
    "    fig, ax = pyplot.subplots(figsize=(6, 4))\n",
    "    color_cycle = ax._get_lines.prop_cycler\n",
    "    ax.grid(True, zorder=0)\n",
    "    ax.set_xlabel('x-location')\n",
    "    ax.set_ylabel('y-velocity\\n along horizontal gridline')\n",
    "    for simulation in simulations:\n",
    "        simulation.read_grid()\n",
    "        simulation.read_velocity(time_step)\n",
    "        x = simulation.y_velocity.x\n",
    "        v = get_horizontal_gridline_values(simulation.y_velocity, y_target)\n",
    "        if any(xlimits):\n",
    "            mask = numpy.where(numpy.logical_and(x >= xlimits[0], x <= xlimits[1]))\n",
    "            x = x[mask]\n",
    "            v = v[mask]\n",
    "        ax.plot(x, v,\n",
    "                label=simulation.description,\n",
    "                color=next(color_cycle)['color'],\n",
    "                linestyle='-', marker='o', markersize=4,\n",
    "                zorder=10)\n",
    "    ax.legend();"
   ]
  },
  {
   "cell_type": "code",
   "execution_count": null,
   "metadata": {
    "collapsed": true
   },
   "outputs": [],
   "source": [
    "cuibm_series_directory = ('{}/tmp/convergence_cuIBM_phantom'.format(os.environ['HOME']))\n",
    "petibm_series_directory = ('{}/tmp/convergence_PetIBM_phantom'.format(os.environ['HOME']))"
   ]
  },
  {
   "cell_type": "code",
   "execution_count": null,
   "metadata": {
    "collapsed": false,
    "scrolled": false
   },
   "outputs": [],
   "source": [
    "gridline_size = 20\n",
    "\n",
    "cuibm_directory = '{}/{}'.format(cuibm_series_directory, gridline_size)\n",
    "cuibm = Simulation(software='cuibm', \n",
    "                   description='cuIBM', \n",
    "                   directory=cuibm_directory)\n",
    "petibm_directory = '{}/{}'.format(petibm_series_directory, gridline_size)\n",
    "petibm = Simulation(software='petibm', \n",
    "                    description='PetIBM',\n",
    "                    directory=petibm_directory)\n",
    "\n",
    "plot_vertical_gridline_values([petibm, cuibm], 500, 0.5)\n",
    "plot_vertical_gridline_values([petibm, cuibm], 500, 0.5, xlimits=[0.75, 0.85])\n",
    "plot_horizontal_gridline_values([petibm, cuibm], 500, 0.5)\n",
    "plot_horizontal_gridline_values([petibm, cuibm], 500, 0.5, xlimits=[0.10, 0.2])\n",
    "\n",
    "x_targets, y_targets = [0.5], [0.5]\n",
    "time_steps = [500, 1000, 1500, 2000]\n",
    "plot_vertical_gridline_differences(petibm, cuibm, \n",
    "                                   x_targets=x_targets, \n",
    "                                   time_steps=time_steps,\n",
    "                                   log_yscale=True)\n",
    "plot_horizontal_gridline_differences(petibm, cuibm, \n",
    "                                     y_targets=y_targets, \n",
    "                                     time_steps=time_steps,\n",
    "                                     log_yscale=True)\n",
    "\n",
    "x_targets, y_targets = [0.1, 0.5, 0.7, 0.9], [0.1, 0.5, 0.7, 0.9]\n",
    "time_steps = [2000]\n",
    "plot_vertical_gridline_differences(petibm, cuibm, \n",
    "                                   x_targets=x_targets, \n",
    "                                   time_steps=time_steps,\n",
    "                                   log_yscale=True)\n",
    "plot_horizontal_gridline_differences(petibm, cuibm, \n",
    "                                     y_targets=y_targets, \n",
    "                                     time_steps=time_steps,\n",
    "                                     log_yscale=True)"
   ]
  },
  {
   "cell_type": "code",
   "execution_count": null,
   "metadata": {
    "collapsed": false,
    "scrolled": false
   },
   "outputs": [],
   "source": [
    "gridline_size = 60\n",
    "\n",
    "cuibm_directory = '{}/{}'.format(cuibm_series_directory, gridline_size)\n",
    "cuibm = Simulation(software='cuibm', \n",
    "                   description='cuIBM',\n",
    "                   directory=cuibm_directory)\n",
    "petibm_directory = '{}/{}'.format(petibm_series_directory, gridline_size)\n",
    "petibm = Simulation(software='petibm', \n",
    "                    description='PetIBM',\n",
    "                    directory=petibm_directory)\n",
    "\n",
    "plot_vertical_gridline_values([petibm, cuibm], 500, 0.5)\n",
    "plot_vertical_gridline_values([petibm, cuibm], 500, 0.5, xlimits=[0.75, 0.85])\n",
    "plot_horizontal_gridline_values([petibm, cuibm], 500, 0.5)\n",
    "plot_horizontal_gridline_values([petibm, cuibm], 500, 0.5, xlimits=[0.10, 0.2])\n",
    "\n",
    "x_targets, y_targets = [0.5], [0.5]\n",
    "time_steps = [500, 1000, 1500, 2000]\n",
    "plot_vertical_gridline_differences(petibm, cuibm, \n",
    "                                   x_targets=x_targets, \n",
    "                                   time_steps=time_steps,\n",
    "                                   log_yscale=True)\n",
    "plot_horizontal_gridline_differences(petibm, cuibm, \n",
    "                                     y_targets=y_targets, \n",
    "                                     time_steps=time_steps,\n",
    "                                     log_yscale=True)\n",
    "\n",
    "x_targets, y_targets = [0.1, 0.5, 0.7, 0.9], [0.1, 0.5, 0.7, 0.9]\n",
    "time_steps = [2000]\n",
    "plot_vertical_gridline_differences(petibm, cuibm, \n",
    "                                   x_targets=x_targets, \n",
    "                                   time_steps=time_steps,\n",
    "                                   log_yscale=True)\n",
    "plot_horizontal_gridline_differences(petibm, cuibm, \n",
    "                                     y_targets=y_targets, \n",
    "                                     time_steps=time_steps,\n",
    "                                     log_yscale=True)"
   ]
  },
  {
   "cell_type": "code",
   "execution_count": null,
   "metadata": {
    "collapsed": false,
    "scrolled": false
   },
   "outputs": [],
   "source": [
    "gridline_size = 180\n",
    "\n",
    "cuibm_directory = '{}/{}'.format(cuibm_series_directory, gridline_size)\n",
    "cuibm = Simulation(software='cuibm', \n",
    "                   description='cuIBM',\n",
    "                   directory=cuibm_directory)\n",
    "petibm_directory = '{}/{}'.format(petibm_series_directory, gridline_size)\n",
    "petibm = Simulation(software='petibm', \n",
    "                    description='PetIBM',\n",
    "                    directory=petibm_directory)\n",
    "\n",
    "plot_vertical_gridline_values([petibm, cuibm], 500, 0.5)\n",
    "plot_vertical_gridline_values([petibm, cuibm], 500, 0.5, xlimits=[0.75, 0.85])\n",
    "plot_horizontal_gridline_values([petibm, cuibm], 500, 0.5)\n",
    "plot_horizontal_gridline_values([petibm, cuibm], 500, 0.5, xlimits=[0.10, 0.2])\n",
    "\n",
    "x_targets, y_targets = [0.5], [0.5]\n",
    "time_steps = [500, 1000, 1500, 2000]\n",
    "plot_vertical_gridline_differences(petibm, cuibm, \n",
    "                                   x_targets=x_targets, \n",
    "                                   time_steps=time_steps,\n",
    "                                   log_yscale=True)\n",
    "plot_horizontal_gridline_differences(petibm, cuibm, \n",
    "                                     y_targets=y_targets, \n",
    "                                     time_steps=time_steps,\n",
    "                                     log_yscale=True)\n",
    "\n",
    "x_targets, y_targets = [0.1, 0.5, 0.7, 0.9], [0.1, 0.5, 0.7, 0.9]\n",
    "time_steps = [2000]\n",
    "plot_vertical_gridline_differences(petibm, cuibm, \n",
    "                                   x_targets=x_targets, \n",
    "                                   time_steps=time_steps,\n",
    "                                   log_yscale=True)\n",
    "plot_horizontal_gridline_differences(petibm, cuibm, \n",
    "                                     y_targets=y_targets, \n",
    "                                     time_steps=time_steps,\n",
    "                                     log_yscale=True)"
   ]
  },
  {
   "cell_type": "code",
   "execution_count": null,
   "metadata": {
    "collapsed": false,
    "scrolled": false
   },
   "outputs": [],
   "source": [
    "gridline_size = 540\n",
    "\n",
    "cuibm_directory = '{}/{}'.format(cuibm_series_directory, gridline_size)\n",
    "cuibm = Simulation(software='cuibm', \n",
    "                   description='cuIBM',\n",
    "                   directory=cuibm_directory)\n",
    "petibm_directory = '{}/{}'.format(petibm_series_directory, gridline_size)\n",
    "petibm = Simulation(software='petibm', \n",
    "                    description='PetIBM',\n",
    "                    directory=petibm_directory)\n",
    "\n",
    "plot_vertical_gridline_values([petibm, cuibm], 500, 0.5)\n",
    "plot_vertical_gridline_values([petibm, cuibm], 500, 0.5, xlimits=[0.75, 0.85])\n",
    "plot_horizontal_gridline_values([petibm, cuibm], 500, 0.5)\n",
    "plot_horizontal_gridline_values([petibm, cuibm], 500, 0.5, xlimits=[0.10, 0.20])\n",
    "\n",
    "x_targets, y_targets = [0.5], [0.5]\n",
    "time_steps = [500, 1000, 1500, 2000]\n",
    "plot_vertical_gridline_differences(petibm, cuibm, \n",
    "                                   x_targets=x_targets, \n",
    "                                   time_steps=time_steps,\n",
    "                                   log_yscale=True)\n",
    "plot_horizontal_gridline_differences(petibm, cuibm, \n",
    "                                     y_targets=y_targets, \n",
    "                                     time_steps=time_steps,\n",
    "                                     log_yscale=True)\n",
    "\n",
    "x_targets, y_targets = [0.1, 0.5, 0.7, 0.9], [0.1, 0.5, 0.7, 0.9]\n",
    "time_steps = [2000]\n",
    "plot_vertical_gridline_differences(petibm, cuibm, \n",
    "                                   x_targets=x_targets, \n",
    "                                   time_steps=time_steps,\n",
    "                                   log_yscale=True)\n",
    "plot_horizontal_gridline_differences(petibm, cuibm, \n",
    "                                     y_targets=y_targets, \n",
    "                                     time_steps=time_steps,\n",
    "                                     log_yscale=True)"
   ]
  },
  {
   "cell_type": "code",
   "execution_count": null,
   "metadata": {
    "collapsed": false,
    "scrolled": false
   },
   "outputs": [],
   "source": [
    "gridline_size = 1620\n",
    "\n",
    "cuibm_directory = '{}/{}'.format(cuibm_series_directory, gridline_size)\n",
    "cuibm = Simulation(software='cuibm', \n",
    "                   description='cuIBM',\n",
    "                   directory=cuibm_directory)\n",
    "petibm_directory = '{}/{}'.format(petibm_series_directory, gridline_size)\n",
    "petibm = Simulation(software='petibm', \n",
    "                    description='PetIBM',\n",
    "                    directory=petibm_directory)\n",
    "\n",
    "plot_vertical_gridline_values([petibm, cuibm], 500, 0.5)\n",
    "plot_vertical_gridline_values([petibm, cuibm], 500, 0.5, xlimits=[0.75, 0.80])\n",
    "plot_horizontal_gridline_values([petibm, cuibm], 500, 0.5)\n",
    "plot_horizontal_gridline_values([petibm, cuibm], 500, 0.5, xlimits=[0.10, 0.15])\n",
    "\n",
    "x_targets, y_targets = [0.5], [0.5]\n",
    "time_steps = [500, 1000, 1500, 2000]\n",
    "plot_vertical_gridline_differences(petibm, cuibm, \n",
    "                                   x_targets=x_targets, \n",
    "                                   time_steps=time_steps,\n",
    "                                   log_yscale=True)\n",
    "plot_horizontal_gridline_differences(petibm, cuibm, \n",
    "                                     y_targets=y_targets, \n",
    "                                     time_steps=time_steps,\n",
    "                                     log_yscale=True)\n",
    "\n",
    "x_targets, y_targets = [0.1, 0.5, 0.7, 0.9], [0.1, 0.5, 0.7, 0.9]\n",
    "time_steps = [2000]\n",
    "plot_vertical_gridline_differences(petibm, cuibm, \n",
    "                                   x_targets=x_targets, \n",
    "                                   time_steps=time_steps,\n",
    "                                   log_yscale=True)\n",
    "plot_horizontal_gridline_differences(petibm, cuibm, \n",
    "                                     y_targets=y_targets, \n",
    "                                     time_steps=time_steps,\n",
    "                                     log_yscale=True)"
   ]
  },
  {
   "cell_type": "code",
   "execution_count": null,
   "metadata": {
    "collapsed": true
   },
   "outputs": [],
   "source": []
  }
 ],
 "metadata": {
  "hide_input": true,
  "kernelspec": {
   "display_name": "Python 2",
   "language": "python",
   "name": "python2"
  },
  "language_info": {
   "codemirror_mode": {
    "name": "ipython",
    "version": 2
   },
   "file_extension": ".py",
   "mimetype": "text/x-python",
   "name": "python",
   "nbconvert_exporter": "python",
   "pygments_lexer": "ipython2",
   "version": "2.7.11"
  }
 },
 "nbformat": 4,
 "nbformat_minor": 0
}
