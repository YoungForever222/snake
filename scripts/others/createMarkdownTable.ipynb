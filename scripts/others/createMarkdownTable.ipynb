{
 "cells": [
  {
   "cell_type": "code",
   "execution_count": 1,
   "metadata": {
    "collapsed": true
   },
   "outputs": [],
   "source": [
    "import numpy\n",
    "import os\n",
    "import sys"
   ]
  },
  {
   "cell_type": "code",
   "execution_count": 2,
   "metadata": {
    "collapsed": true
   },
   "outputs": [],
   "source": [
    "directory = '/home/mesnardo/tmp/convergence_cuIBM/lidDrivenCavity30/data'\n",
    "directory = '/home/mesnardo/tmp/convergence_PetIBM/lidDrivenCavity20/test_compareCuIBM/data'\n",
    "directory = 'data'"
   ]
  },
  {
   "cell_type": "code",
   "execution_count": 7,
   "metadata": {
    "collapsed": true
   },
   "outputs": [],
   "source": [
    "prefixes = ['observedOrders_20_60_180_',\n",
    "            'observedOrders_60_180_540_',\n",
    "            'observedOrders_180_540_1620_']\n",
    "# prefixes = ['observedOrders_20_60_180_',\n",
    "#             'observedOrders_60_180_540_']\n",
    "# prefixes = ['observedOrders_30_90_270_',\n",
    "#             'observedOrders_90_270_810_']\n",
    "prefixes = ['observedOrders_30_90_270_',\n",
    "            'observedOrders_90_270_810_',\n",
    "            'observedOrders_270_810_2430_']"
   ]
  },
  {
   "cell_type": "code",
   "execution_count": 8,
   "metadata": {
    "collapsed": true
   },
   "outputs": [],
   "source": [
    "# time_steps = [100, 200, 300, 400, 500, 600, 700, 800, 900, 1000]\n",
    "# time_steps = [1000, 2000, 3000, 4000, 5000, 6000, 7000, 8000, 9000, 10000]\n",
    "# time_steps = [1000, 2000, 3000, 4000, 5000, 6000, 7000, 8000]\n",
    "# time_steps = [1000, 2000, 3000, 4000, 5000]\n",
    "# time_steps = [1000]\n",
    "time_steps = [500, 1000, 1500, 2000]"
   ]
  },
  {
   "cell_type": "code",
   "execution_count": 9,
   "metadata": {
    "collapsed": true
   },
   "outputs": [],
   "source": [
    "def read_observed_orders(file_path):\n",
    "    with open(file_path, 'r') as infile:\n",
    "        lines = infile.readlines()\n",
    "        data = []\n",
    "        for line in lines:\n",
    "            data.append(round(float(line.strip().split(': ')[1]), 4))\n",
    "    return data"
   ]
  },
  {
   "cell_type": "code",
   "execution_count": 10,
   "metadata": {
    "collapsed": false
   },
   "outputs": [
    {
     "name": "stdout",
     "output_type": "stream",
     "text": [
      "| 500 | 1.7449 | 1.8801 | -1.0029 | 1.5569 | 1.9926 | -0.0989 | 1.6193 | 1.9708 | 1.8657 |\n",
      "| 1000 | 1.7424 | 1.8092 | -1.0614 | 1.5689 | 1.9707 | -0.3268 | 1.6277 | 1.9729 | 1.8645 |\n",
      "| 1500 | 1.7438 | 1.7732 | -1.0835 | 1.5777 | 1.9524 | -0.4445 | 1.6308 | 1.9735 | 1.8652 |\n",
      "| 2000 | 1.745 | 1.751 | -1.0946 | 1.5835 | 1.9373 | -0.5193 | 1.6323 | 1.9737 | 1.865 |\n"
     ]
    }
   ],
   "source": [
    "for time_step in time_steps:\n",
    "    x_velocity = []\n",
    "    y_velocity = []\n",
    "    pressure = []\n",
    "    for prefix in prefixes:\n",
    "        data = read_observed_orders('{}/{}{:0>7}.dat'\n",
    "                                    ''.format(directory, \n",
    "                                              prefix, \n",
    "                                              time_step))\n",
    "        x_velocity += [str(data[1]), '|']\n",
    "        y_velocity += [str(data[2]), '|']\n",
    "        pressure += [str(data[0]), '|']\n",
    "    line = ['|', str(time_step), '|']\n",
    "    line += x_velocity + y_velocity + pressure\n",
    "    print(' '.join(line))"
   ]
  },
  {
   "cell_type": "code",
   "execution_count": null,
   "metadata": {
    "collapsed": true
   },
   "outputs": [],
   "source": []
  }
 ],
 "metadata": {
  "hide_input": true,
  "kernelspec": {
   "display_name": "Python 2",
   "language": "python",
   "name": "python2"
  },
  "language_info": {
   "codemirror_mode": {
    "name": "ipython",
    "version": 2
   },
   "file_extension": ".py",
   "mimetype": "text/x-python",
   "name": "python",
   "nbconvert_exporter": "python",
   "pygments_lexer": "ipython2",
   "version": "2.7.11"
  }
 },
 "nbformat": 4,
 "nbformat_minor": 0
}
